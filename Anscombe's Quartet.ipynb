{
 "cells": [
  {
   "cell_type": "markdown",
   "metadata": {},
   "source": [
    "# Anscombe's Quartet Dataset"
   ]
  },
  {
   "cell_type": "code",
   "execution_count": 10,
   "metadata": {},
   "outputs": [],
   "source": [
    "# Import matplotlib.\n",
    "import matplotlib.pyplot as plt\n",
    "\n",
    "# Make matplotlib show interactive plots in the notebook.\n",
    "%matplotlib inline\n",
    "\n",
    "# Import numpy.\n",
    "import numpy as np"
   ]
  },
  {
   "cell_type": "code",
   "execution_count": 11,
   "metadata": {},
   "outputs": [
    {
     "name": "stdout",
     "output_type": "stream",
     "text": [
      "     x1   x2   x3   x4  \n",
      "1    10   10   10   8   \n",
      "2    8    8    8    8   \n",
      "3    13   13   13   8   \n",
      "4    9    9    9    8   \n",
      "5    11   11   11   8   \n",
      "6    14   14   14   8   \n",
      "7    6    6    6    8   \n",
      "8    4    4    4    19  \n",
      "9    12   12   12   8   \n",
      "10   7    7    7    8   \n",
      "11   5    5    5    8   \n"
     ]
    }
   ],
   "source": [
    "with open('anscombe.csv') as Anscombe:\n",
    "    for line in Anscombe:\n",
    "        col1 = (line.split(',')[0])\n",
    "        col2 = (line.split(',')[1])\n",
    "        col3 = (line.split(',')[2])\n",
    "        col4 = (line.split(',')[3])\n",
    "        col5 = (line.split(',')[4])\n",
    "        \n",
    "        print('{:4s} {:4s} {:4s} {:4s} {:4s}'.format(col1,col2,col3,col4,col5))"
   ]
  }
 ],
 "metadata": {
  "kernelspec": {
   "display_name": "Python 3",
   "language": "python",
   "name": "python3"
  },
  "language_info": {
   "codemirror_mode": {
    "name": "ipython",
    "version": 3
   },
   "file_extension": ".py",
   "mimetype": "text/x-python",
   "name": "python",
   "nbconvert_exporter": "python",
   "pygments_lexer": "ipython3",
   "version": "3.7.0"
  }
 },
 "nbformat": 4,
 "nbformat_minor": 2
}
