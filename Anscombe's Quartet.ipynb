{
 "cells": [
  {
   "cell_type": "markdown",
   "metadata": {},
   "source": [
    "# Anscombe's Quartet Dataset"
   ]
  },
  {
   "cell_type": "code",
   "execution_count": null,
   "metadata": {},
   "outputs": [],
   "source": [
    "# Import matplotlib.\n",
    "import matplotlib.pyplot as plt\n",
    "\n",
    "# Make matplotlib show interactive plots in the notebook.\n",
    "%matplotlib inline\n",
    "\n",
    "# Import numpy.\n",
    "import numpy as np\n",
    "\n",
    "# Import pandas.\n",
    "import pandas as pd\n",
    "\n",
    "# Import mean.\n",
    "from statistics import mean"
   ]
  },
  {
   "cell_type": "code",
   "execution_count": null,
   "metadata": {},
   "outputs": [],
   "source": [
    "# Opens data file to read data.\n",
    "with open('anscombe.csv') as a:\n",
    "\n",
    "    # Reads data from csv file as dataframe using pandas library, using the first row as headers.\n",
    "    Anscombe = pd.read_csv(a, header=0,index_col=0)\n",
    "    print(Anscombe)\n"
   ]
  },
  {
   "cell_type": "code",
   "execution_count": null,
   "metadata": {},
   "outputs": [],
   "source": [
    "# Calculates slope and intercep of best fit line between any two datasets,\n",
    "# then calculate the y values of the best fit line for given x values\n",
    "def best_fit_line(x,y):\n",
    "    m = (((mean(x)*mean(y)) - mean(x*y)) / ((mean(x)*mean(x)) - mean(x*x)))\n",
    "    \n",
    "    b = mean(y) - m*mean(x)\n",
    "    \n",
    "    regression_line = [(m*i)+b for i in x]\n",
    "    \n",
    "    return regression_line, m, b\n",
    "\n",
    "# Plot a set of x and y values along with their best fit line, and print the slope and y-intercept of the best fit line\n",
    "def plot_best_fit (x,y,label1,label2):\n",
    "    best_fit_y,best_fit_m,best_fit_b=best_fit_line(x,y)\n",
    "    \n",
    "    plt.scatter(x,y)\n",
    "    plt.plot(x, best_fit_y)\n",
    "    plt.xlabel(label1)\n",
    "    plt.ylabel(label2)\n",
    "    plt.show()\n",
    "    \n",
    "    print(\"Best fit slope = \",round(best_fit_m,2))\n",
    "    print(\"Best fit y-intercept = \",round(best_fit_b,2))    "
   ]
  },
  {
   "cell_type": "code",
   "execution_count": null,
   "metadata": {},
   "outputs": [],
   "source": [
    "# Plot each pair of datasets in the quartet\n",
    "plot_best_fit(Anscombe['x1'],Anscombe['y1'],'x1','y1')\n",
    "plot_best_fit(Anscombe['x2'],Anscombe['y2'],'x2','y2')\n",
    "plot_best_fit(Anscombe['x3'],Anscombe['y3'],'x3','y3')\n",
    "plot_best_fit(Anscombe['x4'],Anscombe['y4'],'x4','y4')"
   ]
  },
  {
   "cell_type": "code",
   "execution_count": null,
   "metadata": {},
   "outputs": [],
   "source": [
    "# Calculate descriptive statistics for each column in the dataset\n",
    "Anscombe.describe().round(decimals=2)"
   ]
  }
 ],
 "metadata": {
  "kernelspec": {
   "display_name": "Python 3",
   "language": "python",
   "name": "python3"
  },
  "language_info": {
   "codemirror_mode": {
    "name": "ipython",
    "version": 3
   },
   "file_extension": ".py",
   "mimetype": "text/x-python",
   "name": "python",
   "nbconvert_exporter": "python",
   "pygments_lexer": "ipython3",
   "version": "3.7.0"
  }
 },
 "nbformat": 4,
 "nbformat_minor": 2
}
